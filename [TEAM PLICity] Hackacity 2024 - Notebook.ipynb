{
 "cells": [
  {
   "cell_type": "markdown",
   "metadata": {
    "id": "ak-TM5kLM0YB"
   },
   "source": [
    "# Hackacity 2024\n",
    "## [SOLUTION NAME]\n",
    "#### Team: PLICity\n",
    "#### Authors:\n",
    "- José Cabeda\n",
    "- Lirielly \n",
    "- Pedro Machado\n",
    "- Igor Carvalho"
   ]
  },
  {
   "cell_type": "markdown",
   "metadata": {
    "id": "fuJkqbcUOPJa"
   },
   "source": [
    "# Instructions\n",
    "- The purpose of this notebook is to provide a detailed description so that the technical and business jury can have an overview of the technical and non-technical aspects and how they interconnect.\n",
    "- To use the template, you must make a copy and fill in the team name and the challenge title.\n",
    "- The cells containing the instructions should be deleted, but all headers must be kept.\n",
    "- All technical information should be included in this report (e.g., code, queries, graphs, tools used, parameters, etc.). If necessary, additional files can be added to the OneDrive folder, with references to those files included in this report.\n",
    "\n",
    "# Tip\n",
    "- The technical and business jury will need to evaluate several notebooks, so it’s important to maintain a clear line of thought within the notebook without overloading it with too many similar graphs or visuals that do not add value to the work. On the other hand, it’s important to show that the work done is thorough.\n",
    "- Therefore, we recommend using the annex section to include code that was produced along with its description but might be unnecessary noise for the jury (e.g., tested models that didn’t work, EDA with very similar results between variables, etc.).\n"
   ]
  },
  {
   "cell_type": "markdown",
   "metadata": {
    "id": "AmSKK17QObFI"
   },
   "source": [
    "# 1 - Introduction\n"
   ]
  },
  {
   "cell_type": "markdown",
   "metadata": {
    "id": "SVIARPpIP4Dh"
   },
   "source": [
    "The wifi acess data provides us with a way to track the mobility of the citizens. According to the paper A Survey on Privacy in Human Mobility \"human mobility data can be used for different scopes such as urban traffic management, urban planning, urban pollution estimation, etc\". With the rise of AI many use cases devolve around having a good dataset without biases and with relevant data.\n",
    "In this work we:\n",
    "\n",
    "- Propose the usage of this dataset to predict the access points where the number of sessions surpasses a given threshold\n",
    "- Propose how to generate a synthetic dataset for these types of uses cases\n",
    "- Prove that this synthetic data can  be used for our model\n",
    "\n",
    "Furthermore we provide an analysis that the dataset, even if anonymised, could be used for individual tracking by reverse engineering the location of the datasets based on the number of sessions in a given day, by matching with main events in the city of Porto. The same shouldn't occur with the synthetized dataset."
   ]
  },
  {
   "cell_type": "markdown",
   "metadata": {
    "id": "8lGPeW2xnJyI"
   },
   "source": []
  },
  {
   "cell_type": "code",
   "execution_count": null,
   "metadata": {},
   "outputs": [],
   "source": []
  },
  {
   "cell_type": "markdown",
   "metadata": {
    "id": "N840E4RhPfC4"
   },
   "source": [
    "# 2 - Possible threat analysis before anonymization"
   ]
  },
  {
   "cell_type": "markdown",
   "metadata": {
    "id": "u0aqqeU_P4zo"
   },
   "source": [
    "### Instructions:\n",
    "This section should cover a threat analysis of the dataset from the privacy perspective and it's quantification.\n",
    "\n",
    "Important notes:\n",
    "- Only this section is evaluated for the data privacy award;\n",
    "- No code is needed for this section;\n",
    "- A good quantification of the threat is valuade by the jury;\n",
    "- Include any references that is important."
   ]
  },
  {
   "cell_type": "markdown",
   "metadata": {
    "id": "PFy53Uw5D-W-"
   },
   "source": [
    "The challenge provides us with two separate datasets. The access points and the wifi_locations. Focusing on the wifi access dataset we find the following threats.\n",
    "\n",
    "1. Detailed Movement Tracking\n",
    "A possible issue with the wifi access without anonymization is that we can hypotheticaly track a singular user. An attacker could piece together a user's daily routine by:\n",
    "  - Tracking consistent MAC addresses on the wifi sessions\n",
    "  - Analyzing connection timestamps (`acctstarttime` and `acctsessiontime`)\n",
    "  - Mapping access point locations by correlating with the `callingstationid`\n",
    "\n",
    "For example consider the following\n",
    "  ```\n",
    "  User consistently connects to:\n",
    "  - 7:30 AM: Access Point near home\n",
    "  - 8:00 AM: Access Point near workplace\n",
    "  - 12:30 PM: Access Point in lunch area\n",
    "  - 6:00 PM: Access Point near home again\n",
    "  ```\n",
    "\n",
    "- This pattern reveals:\n",
    "  - Home location\n",
    "  - Work location\n",
    "  - Daily routine\n",
    "  - Potentially sensitive personal information\n",
    "\n",
    "2. Data Correlation Risks\n",
    "\n",
    "With the dataset and the identification of the dataset, it's possible for other entities to cross-reference:\n",
    "  - with public social media\n",
    "  - Location-based services (i.e. strava)\n",
    "  - Other open datasets\n",
    "\n",
    "With this dataset it's possible to:\n",
    "  - target advertisments (given a mac address present ads on restaurants or shops it usually goes by)\n",
    "  - allow potential stalking\n",
    "  - enable social engineering attacks (i.e. answer questions like what is the your favorite restaurant?)\n",
    "\n",
    "# Risk Assessment Scorecard\n",
    "\n",
    "There are 3 possible values (none -0 | low -1  | high - 2). On top of the risks above we define the following categories to help track the impact of having the dataset available:\n",
    "\n",
    "- Data Breach Impact\n",
    "- Legal and Regulatory Compliance\n",
    "- Technical Safeguards\n",
    "- Monitoring and Auditing\n",
    "- User Education and Awareness\n",
    "- Incident Response Plan\n",
    "\n",
    "# Risk Assessment Scorecard\n",
    "\n",
    "| Risk Category                   | Status |\n",
    "|-----------------------------    |--------|\n",
    "| Detailed Movement Tracking      | 2      |\n",
    "| Data Correlation Risks          | 2      |\n",
    "| Data Breach Impact              | 2      |\n",
    "| Legal and Regulatory Compliance | 2      |\n",
    "| Technical Safeguards            | 2      |\n",
    "| Monitoring and Auditing         | 2      |\n",
    "| User Education and Awareness    | 2      |\n",
    "| Incident Response Plan          | 2      |\n",
    "\n",
    "Risk score: 16/16\n",
    "\n",
    "## Mitigation Strategies\n",
    "\n",
    "Considering the threats above we propose the following mitigation strategies:\n",
    "\n",
    "1. **Data Minimization**:\n",
    "- Reduce detailed location information (i.e. access points coordinates are approxiamted)\n",
    "- Generalize timestamps (i.e. remove minutes or change date)\n",
    "\n",
    "2. **Advanced Anonymization**:\n",
    "   - Hashing MAC addresses (`callingstationid`)\n",
    "   - Create random session IDs (`acctsessionid`)\n",
    "\n",
    "These techniques allow to remove the direct connection between the access points and the wifi accesses datasets.\n",
    "\n",
    "3. **Consent and Transparency**:\n",
    "   - Clear user consent for data collection\n",
    "   - Opt-out mechanisms\n",
    "   - Detailed privacy policy\n",
    "\n",
    "Although it doesn't mitigate the risks of approved data this enables the dataset to be given only by consenting users and in this way follow the GDPR which states that we can only store data a given user consents on.\n",
    "\n",
    "4. **Technical Safeguards**:\n",
    "   - Implement encryption for data at rest and in transit\n",
    "   - Use secure access controls and authentication mechanisms\n",
    "\n",
    "5. **Monitoring and Auditing**:\n",
    "   - Regularly monitor access to the data and audit logs\n",
    "   - Implement intrusion detection systems\n",
    "\n",
    "7. **Incident Response Plan**:\n",
    "   - Develop and maintain an incident response plan\n",
    "   - Include steps for notifying affected individuals and regulatory authorities\n",
    "\n"
   ]
  },
  {
   "cell_type": "markdown",
   "metadata": {
    "id": "txP36hXRPfQY"
   },
   "source": [
    "# 3 - Anonymization process"
   ]
  },
  {
   "cell_type": "markdown",
   "metadata": {
    "id": "U_tyZhtlsCK-"
   },
   "source": [
    "### Instructions\n",
    "\n",
    "Based on the previous threat assesment, propose any anonymization techniques you might find helpful.\n",
    "\n",
    "Include all the code and proof needed that the threat has been mitigated."
   ]
  },
  {
   "cell_type": "markdown",
   "metadata": {},
   "source": [
    "## Synthetic data for ML\n",
    "Considering the techniques which have already been applied to the dataset provided to us we have an hypothesis that we can potentially reverse engineer the relation between the access points by correlating across different datasets and link to real identities through additional context. \n",
    "\n",
    "For example in this work we propose the usage of datasets with the Porto city events and the university of Porto events and correlate them with access outliers. (i.e there's an access point in Inesc near FEUP, and given a couple of events at this place, if they closely correlate to the same dates of outliers we can say with confidence that the anonymised callingstationid refers to the given access point).\n",
    "\n",
    "Some existing event datasets are:\n",
    "- Cultural calendar of porto: https://opendata.porto.digital/dataset/8f4316c7-aafe-488f-a8b0-5e721ae37637/resource/351[…]95011584?activity_id=be273578-39f4-4c76-ae1d-db515d9f7362\n",
    "- university of porto calendar: https://sigarra.up.pt/up/pt/web_base.gera_pagina?p_pagina=calend%c3%a1rio%20escolar%20da%20universidade%20do%20porto\n"
   ]
  },
  {
   "cell_type": "code",
   "execution_count": null,
   "metadata": {
    "id": "Kd0UcwTdW6LC"
   },
   "outputs": [],
   "source": []
  },
  {
   "cell_type": "markdown",
   "metadata": {
    "id": "74WGhLoRs7IM"
   },
   "source": [
    "# 4 - Possible threat analysis after anonymization"
   ]
  },
  {
   "cell_type": "markdown",
   "metadata": {
    "id": "LVFKhtX1s98g"
   },
   "source": [
    "### Instructions\n",
    "\n",
    "Not all solutions are perfect - Do a threat analysis and compare the threats before and after your solution."
   ]
  },
  {
   "cell_type": "markdown",
   "metadata": {},
   "source": [
    "After the anonymization of the data we can consider 3 different stages:\n",
    "\n",
    "1. Data is anonymized\n",
    "2. Processes are implemented\n",
    "3. Synthetic dataset is provided \n",
    "\n",
    "Given these stages we have the following score cards:\n",
    "\n",
    "# Data is anonymized\n",
    "\n",
    "Score: 14/16\n",
    "\n",
    "| Risk Category                   | Status |\n",
    "|-----------------------------    |--------|\n",
    "| Detailed Movement Tracking      | 1      |\n",
    "| Data Correlation Risks          | 1      |\n",
    "| Data Breach Impact              | 2      |\n",
    "| Legal and Regulatory Compliance | 2      |\n",
    "| Technical Safeguards            | 2      |\n",
    "| Monitoring and Auditing         | 2      |\n",
    "| User Education and Awareness    | 2      |\n",
    "| Incident Response Plan          | 2      |\n",
    "\n",
    "# 2 - Processes are implemented\n",
    "\n",
    "Score: 8/16\n",
    "\n",
    "| Risk Category                   | Status |\n",
    "|-----------------------------    |--------|\n",
    "| Detailed Movement Tracking      | 1      |\n",
    "| Data Correlation Risks          | 1      |\n",
    "| Data Breach Impact              | 1      |\n",
    "| Legal and Regulatory Compliance | 1      |\n",
    "| Technical Safeguards            | 1      |\n",
    "| Monitoring and Auditing         | 1      |\n",
    "| User Education and Awareness    | 1      |\n",
    "| Incident Response Plan          | 1      |\n",
    "\n",
    "# 3 - Synthezized data is provided\n",
    "\n",
    "Score: 4/16\n",
    "\n",
    "| Risk Category                   | Status |\n",
    "|-----------------------------    |--------|\n",
    "| Detailed Movement Tracking      | 0      |\n",
    "| Data Correlation Risks          | 0      |\n",
    "| Data Breach Impact              | 0      |\n",
    "| Legal and Regulatory Compliance | 1      |\n",
    "| Technical Safeguards            | 1      |\n",
    "| Monitoring and Auditing         | 1      |\n",
    "| User Education and Awareness    | 1      |\n",
    "| Incident Response Plan          | 1      |"
   ]
  },
  {
   "cell_type": "markdown",
   "metadata": {
    "id": "YJwqR0RktCl_"
   },
   "source": [
    "# 5 - Data potential and analysis"
   ]
  },
  {
   "cell_type": "markdown",
   "metadata": {
    "id": "8UqIKQQctFqm"
   },
   "source": [
    "### Instructions\n",
    "\n",
    "It is typical that during an anonymization process, there is a loss of value in terms of insights. In this section, explore the other side of the scale - What can still be done with the data that is processed and why is the risk above justifiable taking into account the potential return?\n",
    "\n",
    "Specifically, try to imagine yourself as the city's analytics team, which uses this data to gather conclusions about the city's state and flow and try develop and demonstrate what results and analyses can be done. You can use the given data plus optionally any other data sources. If you complement with additional datasets, be it from the city Open Data Portal (https://opendata.porto.digital) or other datasets, make sure you cite and reference them explicitly.\n",
    "\n"
   ]
  },
  {
   "cell_type": "code",
   "execution_count": null,
   "metadata": {
    "id": "2h9g8kuctaA9"
   },
   "outputs": [],
   "source": [
    "# Given the dataset predict the access points that will have the most demand\n",
    "# 1.1 Com o dataset original (can tell the exact point to dynamically allocate resources)\n",
    "# 1.2 Run with the synthetic data and check the results are good"
   ]
  },
  {
   "cell_type": "markdown",
   "metadata": {
    "id": "yUjrNftxPf4r"
   },
   "source": [
    "# 5 - Conclusions and Future Work\n"
   ]
  },
  {
   "cell_type": "markdown",
   "metadata": {
    "id": "LM9AxU0qP7iA"
   },
   "source": [
    "### Instructions:\n",
    "\n",
    "List the main conclusions focusing on the feasibility, innovation, and applicability of the solution.\n",
    "\n",
    "In addition, describe the future work still necessary if this solution were to continue: What would the next steps be? What limitations do the data have for implementing the solution? How can the data be improved? How could this solution be improved? What other ideas could be included/analyzed? What other types of data could be used? What other methodologies could be experimented with?"
   ]
  },
  {
   "cell_type": "markdown",
   "metadata": {
    "id": "5-mmomkCPf_J"
   },
   "source": [
    "# 6 - References"
   ]
  },
  {
   "cell_type": "markdown",
   "metadata": {
    "id": "_I43QybAP7_3"
   },
   "source": [
    "### Instructions:\n",
    "\n",
    "Provide the relevant references for materials and/or sources used (reports, articles, external data sources, etc.).\n"
   ]
  },
  {
   "cell_type": "markdown",
   "metadata": {
    "id": "0BfqjXJbEFgA"
   },
   "source": []
  },
  {
   "cell_type": "markdown",
   "metadata": {
    "id": "2-hagKyQC62b"
   },
   "source": [
    "# 9 - Annex"
   ]
  },
  {
   "cell_type": "markdown",
   "metadata": {
    "id": "3vbISKe1EH6t"
   },
   "source": []
  }
 ],
 "metadata": {
  "colab": {
   "provenance": [
    {
     "file_id": "1FCNGFrwRGB7qmW9aXWY_NCQzEThLKkMV",
     "timestamp": 1733829762258
    },
    {
     "file_id": "1TQDTmceyPDSwqYjOyelctTEYW87HQBmb",
     "timestamp": 1728575465491
    },
    {
     "file_id": "1zJEwIBS9PIUl-dOENq_xxrvD2IRklRQe",
     "timestamp": 1666627748076
    },
    {
     "file_id": "1pTppnjYuuBb558seG3nB3UB2cT11BeYk",
     "timestamp": 1606129186969
    }
   ]
  },
  "kernelspec": {
   "display_name": ".venv",
   "language": "python",
   "name": "python3"
  },
  "language_info": {
   "codemirror_mode": {
    "name": "ipython",
    "version": 3
   },
   "file_extension": ".py",
   "mimetype": "text/x-python",
   "name": "python",
   "nbconvert_exporter": "python",
   "pygments_lexer": "ipython3",
   "version": "3.13.0"
  }
 },
 "nbformat": 4,
 "nbformat_minor": 0
}
